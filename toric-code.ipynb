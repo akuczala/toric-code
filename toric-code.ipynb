{
 "cells": [
  {
   "cell_type": "code",
   "execution_count": 5,
   "id": "7ebc62a2",
   "metadata": {},
   "outputs": [],
   "source": [
    "import numpy as np\n",
    "import scipy.linalg as lin\n",
    "import toriccode as tc"
   ]
  },
  {
   "cell_type": "code",
   "execution_count": null,
   "id": "1293a007-c41e-445b-8778-b4db0b0353af",
   "metadata": {},
   "outputs": [],
   "source": [
    "def build_mini_H():\n",
    "    links = Plaquette(GRID_POINT_CLASS.zero).links\n",
    "    return tensor_product((Z for _ in links)).reshape(16,16)"
   ]
  },
  {
   "cell_type": "code",
   "execution_count": 8,
   "id": "bd4b9a1e-5432-41b2-8158-622040051f8c",
   "metadata": {},
   "outputs": [
    {
     "ename": "TypeError",
     "evalue": "GridPointPlane.__init__() takes 1 positional argument but 2 were given",
     "output_type": "error",
     "traceback": [
      "\u001b[0;31m---------------------------------------------------------------------------\u001b[0m",
      "\u001b[0;31mTypeError\u001b[0m                                 Traceback (most recent call last)",
      "Input \u001b[0;32mIn [8]\u001b[0m, in \u001b[0;36m<cell line: 2>\u001b[0;34m()\u001b[0m\n\u001b[1;32m      1\u001b[0m \u001b[38;5;28;01mfrom\u001b[39;00m \u001b[38;5;21;01mmatplotlib\u001b[39;00m \u001b[38;5;28;01mimport\u001b[39;00m pyplot \u001b[38;5;28;01mas\u001b[39;00m plt\n\u001b[0;32m----> 2\u001b[0m h \u001b[38;5;241m=\u001b[39m \u001b[43mbuild_mini_H\u001b[49m\u001b[43m(\u001b[49m\u001b[43m)\u001b[49m\n\u001b[1;32m      3\u001b[0m plot_bwr(h)\n\u001b[1;32m      4\u001b[0m eigs, vecs \u001b[38;5;241m=\u001b[39m lin\u001b[38;5;241m.\u001b[39meigh(h)\n",
      "Input \u001b[0;32mIn [6]\u001b[0m, in \u001b[0;36mbuild_mini_H\u001b[0;34m()\u001b[0m\n\u001b[1;32m      5\u001b[0m \u001b[38;5;28;01mdef\u001b[39;00m \u001b[38;5;21mbuild_mini_H\u001b[39m():\n\u001b[0;32m----> 6\u001b[0m     links \u001b[38;5;241m=\u001b[39m Plaquette(\u001b[43mGRID_POINT_CLASS\u001b[49m\u001b[38;5;241;43m.\u001b[39;49m\u001b[43mzero\u001b[49m)\u001b[38;5;241m.\u001b[39mlinks\n\u001b[1;32m      7\u001b[0m     \u001b[38;5;28;01mreturn\u001b[39;00m tensor_product((Z \u001b[38;5;28;01mfor\u001b[39;00m _ \u001b[38;5;129;01min\u001b[39;00m links))\u001b[38;5;241m.\u001b[39mreshape(\u001b[38;5;241m16\u001b[39m,\u001b[38;5;241m16\u001b[39m)\n",
      "Input \u001b[0;32mIn [3]\u001b[0m, in \u001b[0;36mGridPoint.zero\u001b[0;34m(cls)\u001b[0m\n\u001b[1;32m     29\u001b[0m \u001b[38;5;129m@classmethod\u001b[39m\n\u001b[1;32m     30\u001b[0m \u001b[38;5;129m@property\u001b[39m\n\u001b[1;32m     31\u001b[0m \u001b[38;5;28;01mdef\u001b[39;00m \u001b[38;5;21mzero\u001b[39m(\u001b[38;5;28mcls\u001b[39m) \u001b[38;5;241m-\u001b[39m\u001b[38;5;241m>\u001b[39m GridPoint:\n\u001b[0;32m---> 32\u001b[0m     \u001b[38;5;28;01mreturn\u001b[39;00m \u001b[38;5;28;43mcls\u001b[39;49m\u001b[38;5;241;43m.\u001b[39;49m\u001b[43mnew\u001b[49m\u001b[43m(\u001b[49m\u001b[38;5;241;43m0\u001b[39;49m\u001b[43m,\u001b[49m\u001b[38;5;241;43m0\u001b[39;49m\u001b[43m)\u001b[49m\n",
      "Input \u001b[0;32mIn [3]\u001b[0m, in \u001b[0;36mGridPoint.new\u001b[0;34m(cls, *args)\u001b[0m\n\u001b[1;32m     25\u001b[0m \u001b[38;5;129m@classmethod\u001b[39m\n\u001b[1;32m     26\u001b[0m \u001b[38;5;28;01mdef\u001b[39;00m \u001b[38;5;21mnew\u001b[39m(\u001b[38;5;28mcls\u001b[39m, \u001b[38;5;241m*\u001b[39margs) \u001b[38;5;241m-\u001b[39m\u001b[38;5;241m>\u001b[39m GridPoint:\n\u001b[0;32m---> 27\u001b[0m     \u001b[38;5;28;01mreturn\u001b[39;00m \u001b[38;5;28;43mcls\u001b[39;49m\u001b[43m(\u001b[49m\u001b[43margs\u001b[49m\u001b[43m)\u001b[49m\n",
      "\u001b[0;31mTypeError\u001b[0m: GridPointPlane.__init__() takes 1 positional argument but 2 were given"
     ]
    }
   ],
   "source": [
    "from matplotlib import pyplot as plt\n",
    "h = build_mini_H()\n",
    "plot_bwr(h)\n",
    "eigs, vecs = lin.eigh(h)\n",
    "plot_bwr(eigs.reshape(1,-1))\n",
    "plot_bwr(vecs); "
   ]
  },
  {
   "cell_type": "code",
   "execution_count": 143,
   "id": "b84a22d4-7e3d-4d07-96d0-c0917a1685f5",
   "metadata": {},
   "outputs": [],
   "source": [
    "def ax_kwarg(f):\n",
    "    def f_ax(*args, ax=None, **kwargs):\n",
    "        if ax is None:\n",
    "            ax = plt.gca()\n",
    "        return f(*args, ax=ax, **kwargs)\n",
    "    return f_ax\n",
    "\n",
    "@ax_kwarg\n",
    "def plot_link(link, ax=None):\n",
    "    points = link.points\n",
    "    ax.plot([points[0][0], points[1][0]], [points[0][1], points[1][1]])\n",
    "    \n",
    "# todo single dispatch\n",
    "@ax_kwarg\n",
    "def plot_links(someone_with_links, ax=None):\n",
    "    iter_over = someone_with_links if isinstance(someone_with_links, list) else someone_with_links.links\n",
    "    for link in iter_over:\n",
    "        plot_link(link, ax=ax)"
   ]
  },
  {
   "cell_type": "code",
   "execution_count": 157,
   "id": "7fd2a6c8-604c-4057-9e32-30337bf0aa87",
   "metadata": {},
   "outputs": [
    {
     "data": {
      "image/png": "[encoded data removed]",
      "text/plain": [
       "<Figure size 432x288 with 1 Axes>"
      ]
     },
     "metadata": {
      "needs_background": "light"
     },
     "output_type": "display_data"
    }
   ],
   "source": [
    "plot_links(Plaquette(GRID_POINT_CLASS.zero))\n",
    "for link in Star(GRID_POINT_CLASS.new(3,3)).links:\n",
    "    plot_link(link)\n",
    "plt.gca().set_aspect(1)"
   ]
  },
  {
   "cell_type": "code",
   "execution_count": 69,
   "id": "70aa3894-ebd3-4405-b303-826ea8b2991b",
   "metadata": {},
   "outputs": [
    {
     "data": {
      "text/plain": [
       "['Link(GridPoint(0, 0), H)',\n",
       " 'Link(GridPoint(0, 0), V)',\n",
       " 'Link(GridPoint(1, 0), V)',\n",
       " 'Link(GridPoint(0, 1), H)']"
      ]
     },
     "execution_count": 69,
     "metadata": {},
     "output_type": "execute_result"
    }
   ],
   "source": [
    "[str(s) for s in Plaquette(GridPoint.zero).get_links()]"
   ]
  },
  {
   "cell_type": "code",
   "execution_count": 60,
   "id": "4832d3ce-ec9f-44a0-b541-b82804e06fdb",
   "metadata": {},
   "outputs": [
    {
     "data": {
      "text/plain": [
       "'GridPoint(0, 0)'"
      ]
     },
     "execution_count": 60,
     "metadata": {},
     "output_type": "execute_result"
    }
   ],
   "source": [
    "str(GridPoint.zero)"
   ]
  },
  {
   "cell_type": "code",
   "execution_count": 58,
   "id": "2dcb7135-08cb-4bc8-95f6-b4e92d226f19",
   "metadata": {},
   "outputs": [
    {
     "data": {
      "text/plain": [
       "\"1, 2, 3, <enum 'Direction'>\""
      ]
     },
     "execution_count": 58,
     "metadata": {},
     "output_type": "execute_result"
    }
   ],
   "source": [
    "comma_separated_string([1,2,3, Direction])"
   ]
  },
  {
   "cell_type": "code",
   "execution_count": null,
   "id": "2b6ef0ac-3e5b-42ec-a4d7-bbb1dc27a594",
   "metadata": {},
   "outputs": [],
   "source": []
  }
 ],
 "metadata": {
  "kernelspec": {
   "display_name": "base-10",
   "language": "python",
   "name": "base-10"
  },
  "language_info": {
   "codemirror_mode": {
    "name": "ipython",
    "version": 3
   },
   "file_extension": ".py",
   "mimetype": "text/x-python",
   "name": "python",
   "nbconvert_exporter": "python",
   "pygments_lexer": "ipython3",
   "version": "3.10.4"
  }
 },
 "nbformat": 4,
 "nbformat_minor": 5
}
