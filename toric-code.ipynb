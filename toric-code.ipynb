{
 "cells": [
  {
   "cell_type": "code",
   "execution_count": 1,
   "id": "7ebc62a2",
   "metadata": {},
   "outputs": [],
   "source": [
    "import numpy as np\n",
    "import scipy.linalg as lin\n",
    "import toriccode.env as tc\n",
    "from toriccode.utils import tensor_product\n",
    "from matplotlib import pyplot as plt\n",
    "import itertools\n",
    "from toriccode.plot_utils import *\n",
    "# from jupyterthemes import jtplot\n",
    "# jtplot.style()\n",
    "plt.style.use('dark_background') "
   ]
  },
  {
   "cell_type": "code",
   "execution_count": 28,
   "id": "aec6113f-1f1c-44aa-85fd-591ffb2540fa",
   "metadata": {},
   "outputs": [
    {
     "data": {
      "text/plain": [
       "1357.1680263507906"
      ]
     },
     "execution_count": 28,
     "metadata": {},
     "output_type": "execute_result"
    }
   ],
   "source": [
    "(12 / 2)**2 * np.pi * 12"
   ]
  },
  {
   "cell_type": "code",
   "execution_count": 20,
   "id": "85027100-d65e-43f5-b645-d31ea95a65e0",
   "metadata": {},
   "outputs": [
    {
     "data": {
      "image/png": "[encoded data removed]",
      "text/plain": [
       "<Figure size 432x288 with 1 Axes>"
      ]
     },
     "metadata": {},
     "output_type": "display_data"
    }
   ],
   "source": [
    "GRID_POINT_CLASS = tc.make_grid_point_torus(2,2)\n",
    "\n",
    "from toriccode.plot_utils import plot_links, plot_link_periodic\n",
    "local_terms = (\n",
    "    [tc.Star(GRID_POINT_CLASS.new(i,j)) for i,j in itertools.product([0,1],[0,1])]\n",
    "    + [tc.Plaquette(GRID_POINT_CLASS.new(i,j)) for i,j in itertools.product([0,1],[0,1])]\n",
    ")\n",
    "plot_kwargs = {\n",
    "    tc.Star: dict(c='red', linestyle='--'),\n",
    "    tc.Plaquette: dict(c='lime', linestyle='dotted')\n",
    "}\n",
    "for term in local_terms:\n",
    "    plot_links(term, plot_link_fn=plot_link_periodic, **plot_kwargs[type(term)])\n",
    "\n",
    "plt.gca().set_aspect(1)"
   ]
  },
  {
   "cell_type": "code",
   "execution_count": 9,
   "id": "4af5cf79-de2d-4119-88cf-ada414077192",
   "metadata": {},
   "outputs": [
    {
     "data": {
      "image/png": "[encoded data removed]",
      "text/plain": [
       "<Figure size 432x288 with 1 Axes>"
      ]
     },
     "metadata": {},
     "output_type": "display_data"
    }
   ],
   "source": [
    "plot_links(local_terms[0], plot_link_fn=plot_link_periodic, c='red')\n",
    "plt.gca().set_aspect(1)"
   ]
  },
  {
   "cell_type": "code",
   "execution_count": 7,
   "id": "f6c2b9b9-089d-44fb-9ece-e5cae12d980a",
   "metadata": {},
   "outputs": [
    {
     "name": "stdout",
     "output_type": "stream",
     "text": [
      "(GridPointTorus22(p=(0, 1)), GridPointTorus22(p=(0, 0)))\n",
      "[[0 1]\n",
      " [0 2]]\n"
     ]
    }
   ],
   "source": [
    "link = local_terms[0].links[3]\n",
    "print(link.points)\n",
    "print(link_position_periodic(link))"
   ]
  },
  {
   "cell_type": "code",
   "execution_count": 25,
   "id": "05bc33c9-a408-4949-b287-e11d1c86ac78",
   "metadata": {},
   "outputs": [
    {
     "data": {
      "text/plain": [
       "8"
      ]
     },
     "execution_count": 25,
     "metadata": {},
     "output_type": "execute_result"
    }
   ],
   "source": [
    "set(tc.Link.new(link.p0, link.direction, None) for term in local_terms for link in term.links)"
   ]
  },
  {
   "cell_type": "code",
   "execution_count": 10,
   "id": "e67111d4-9358-499d-994d-79737f532f8e",
   "metadata": {},
   "outputs": [
    {
     "data": {
      "text/plain": [
       "['Link(GridPointTorus22(0, 0), H, Z)',\n",
       " 'Link(GridPointTorus22(0, 0), V, Z)',\n",
       " 'Link(GridPointTorus22(1, 0), H, Z)',\n",
       " 'Link(GridPointTorus22(0, 1), V, Z)',\n",
       " 'Link(GridPointTorus22(0, 1), H, Z)',\n",
       " 'Link(GridPointTorus22(0, 1), V, Z)',\n",
       " 'Link(GridPointTorus22(1, 1), H, Z)',\n",
       " 'Link(GridPointTorus22(0, 0), V, Z)',\n",
       " 'Link(GridPointTorus22(1, 0), H, Z)',\n",
       " 'Link(GridPointTorus22(1, 0), V, Z)',\n",
       " 'Link(GridPointTorus22(0, 0), H, Z)',\n",
       " 'Link(GridPointTorus22(1, 1), V, Z)',\n",
       " 'Link(GridPointTorus22(1, 1), H, Z)',\n",
       " 'Link(GridPointTorus22(1, 1), V, Z)',\n",
       " 'Link(GridPointTorus22(0, 1), H, Z)',\n",
       " 'Link(GridPointTorus22(1, 0), V, Z)',\n",
       " 'Link(GridPointTorus22(0, 0), H, X)',\n",
       " 'Link(GridPointTorus22(0, 0), V, X)',\n",
       " 'Link(GridPointTorus22(1, 0), V, X)',\n",
       " 'Link(GridPointTorus22(0, 1), H, X)']"
      ]
     },
     "execution_count": 10,
     "metadata": {},
     "output_type": "execute_result"
    }
   ],
   "source": [
    "[str(s) for term in local_terms for s in term.links]"
   ]
  },
  {
   "cell_type": "code",
   "execution_count": 18,
   "id": "b2450311-4a2d-4ad3-84c3-6a59602f8d9b",
   "metadata": {},
   "outputs": [],
   "source": [
    "def print_ls(ls):\n",
    "    return [str(v) for v in ls]"
   ]
  },
  {
   "cell_type": "code",
   "execution_count": 19,
   "id": "96735e5a-ffa7-47f9-a344-fc6a5d7c3720",
   "metadata": {},
   "outputs": [
    {
     "data": {
      "text/plain": [
       "['Link(GridPointTorus22(0, 0), H, Z)',\n",
       " 'Link(GridPointTorus22(0, 0), V, Z)',\n",
       " 'Link(GridPointTorus22(1, 0), H, Z)',\n",
       " 'Link(GridPointTorus22(0, 1), V, Z)']"
      ]
     },
     "execution_count": 19,
     "metadata": {},
     "output_type": "execute_result"
    }
   ],
   "source": [
    "print_ls(local_terms[0].links)"
   ]
  },
  {
   "cell_type": "code",
   "execution_count": 14,
   "id": "4bd4ce3f-d574-4ff6-aafb-14bbcb41237a",
   "metadata": {},
   "outputs": [
    {
     "data": {
      "text/plain": [
       "True"
      ]
     },
     "execution_count": 14,
     "metadata": {},
     "output_type": "execute_result"
    }
   ],
   "source": [
    "all_links = [link for term in local_terms for link in term.links]\n",
    "all(link in all_links for term in local_terms for link in term.links)"
   ]
  },
  {
   "cell_type": "code",
   "execution_count": 9,
   "id": "bd4b9a1e-5432-41b2-8158-622040051f8c",
   "metadata": {},
   "outputs": [
    {
     "data": {
      "image/png": "[encoded data removed]",
      "text/plain": [
       "<Figure size 432x288 with 2 Axes>"
      ]
     },
     "metadata": {},
     "output_type": "display_data"
    },
    {
     "data": {
      "image/png": "[encoded data removed]",
      "text/plain": [
       "<Figure size 432x288 with 2 Axes>"
      ]
     },
     "metadata": {},
     "output_type": "display_data"
    },
    {
     "data": {
      "image/png": "[encoded data removed]",
      "text/plain": [
       "<Figure size 432x288 with 2 Axes>"
      ]
     },
     "metadata": {},
     "output_type": "display_data"
    }
   ],
   "source": [
    "def build_H(terms):\n",
    "    return sum(\n",
    "        tensor_product(\n",
    "            (link.operator.matrix for link in term.links)\n",
    "        ).reshape(16,16)\n",
    "        for term in terms\n",
    "    )\n",
    "\n",
    "h = build_H(local_terms)\n",
    "plot_bwr(h)\n",
    "eigs, vecs = lin.eigh(h)\n",
    "plot_bwr(eigs.reshape(1,-1))\n",
    "plot_bwr(vecs); "
   ]
  },
  {
   "cell_type": "code",
   "execution_count": null,
   "id": "e92eb9d6-dbcf-464b-9b5b-6fdd825dd674",
   "metadata": {},
   "outputs": [],
   "source": []
  },
  {
   "cell_type": "code",
   "execution_count": 16,
   "id": "a2a1a5cd-77e7-4616-870c-689d4edb3d88",
   "metadata": {},
   "outputs": [],
   "source": [
    "PRECISION = 10"
   ]
  },
  {
   "cell_type": "code",
   "execution_count": 17,
   "id": "d39c139b-b379-4de3-888f-7c75e2d448e9",
   "metadata": {},
   "outputs": [
    {
     "data": {
      "text/plain": [
       "array([-0.,  0.,  0.,  0.,  0.,  0.,  0.,  0.,  0.,  0.,  0.,  0.,  0.,\n",
       "        0.,  4., 16.])"
      ]
     },
     "execution_count": 17,
     "metadata": {},
     "output_type": "execute_result"
    }
   ],
   "source": [
    "np.round(eigs, PRECISION)"
   ]
  },
  {
   "cell_type": "code",
   "execution_count": 19,
   "id": "98deb65a-6799-4979-9b14-8575ae124a9e",
   "metadata": {},
   "outputs": [
    {
     "data": {
      "text/plain": [
       "array([[ 0.        ,  0.        ,  0.        ,  0.        ,  0.        ,\n",
       "         0.        ,  0.        ,  0.        ,  0.        ,  0.        ,\n",
       "         0.        ,  0.        ,  0.        ,  0.8660254 ,  0.        ,\n",
       "        -0.5       ],\n",
       "       [ 0.        ,  1.        , -0.        ,  0.        ,  0.        ,\n",
       "         0.        ,  0.        ,  0.        , -0.        ,  0.        ,\n",
       "         0.        ,  0.        ,  0.        ,  0.        ,  0.        ,\n",
       "         0.        ],\n",
       "       [ 0.        ,  0.        ,  0.57735027,  0.        ,  0.        ,\n",
       "         0.        ,  0.        ,  0.        ,  0.57735027,  0.        ,\n",
       "         0.        , -0.57735027,  0.        ,  0.        ,  0.        ,\n",
       "         0.        ],\n",
       "       [ 0.        , -0.        ,  0.66666667,  0.        ,  0.        ,\n",
       "         0.        ,  0.        ,  0.        , -0.33333333,  0.        ,\n",
       "         0.        ,  0.33333333,  0.        ,  0.28867513,  0.        ,\n",
       "         0.5       ],\n",
       "       [ 0.        ,  0.        ,  0.        ,  1.        ,  0.        ,\n",
       "         0.        ,  0.        ,  0.        ,  0.        ,  0.        ,\n",
       "         0.        ,  0.        ,  0.        ,  0.        ,  0.        ,\n",
       "         0.        ],\n",
       "       [ 0.        ,  0.        ,  0.        ,  0.        ,  0.        ,\n",
       "         0.        ,  0.        ,  0.        ,  0.        ,  0.        ,\n",
       "         0.        ,  0.        ,  0.8660254 ,  0.        , -0.5       ,\n",
       "         0.        ],\n",
       "       [-0.81649658,  0.        ,  0.        ,  0.        , -0.        ,\n",
       "        -0.        , -0.        ,  0.        ,  0.        ,  0.        ,\n",
       "         0.        ,  0.        , -0.28867513,  0.        , -0.5       ,\n",
       "         0.        ],\n",
       "       [ 0.        ,  0.        ,  0.        ,  0.        , -1.        ,\n",
       "         0.        ,  0.        ,  0.        ,  0.        ,  0.        ,\n",
       "         0.        ,  0.        ,  0.        ,  0.        ,  0.        ,\n",
       "         0.        ],\n",
       "       [ 0.        ,  0.        ,  0.        ,  0.        ,  0.        ,\n",
       "        -0.70710678, -0.70710678,  0.        ,  0.        ,  0.        ,\n",
       "         0.        ,  0.        ,  0.        ,  0.        ,  0.        ,\n",
       "         0.        ],\n",
       "       [ 0.40824829,  0.        ,  0.        ,  0.        ,  0.        ,\n",
       "         0.5       , -0.5       ,  0.        ,  0.        ,  0.        ,\n",
       "         0.        ,  0.        , -0.28867513,  0.        , -0.5       ,\n",
       "         0.        ],\n",
       "       [ 0.40824829,  0.        ,  0.        ,  0.        ,  0.        ,\n",
       "        -0.5       ,  0.5       ,  0.        ,  0.        ,  0.        ,\n",
       "         0.        ,  0.        , -0.28867513,  0.        , -0.5       ,\n",
       "         0.        ],\n",
       "       [ 0.        ,  0.        ,  0.        ,  0.        ,  0.        ,\n",
       "         0.        ,  0.        ,  1.        ,  0.        ,  0.        ,\n",
       "         0.        ,  0.        ,  0.        ,  0.        ,  0.        ,\n",
       "         0.        ],\n",
       "       [ 0.        , -0.        , -0.33333333,  0.        ,  0.        ,\n",
       "         0.        ,  0.        ,  0.        ,  0.66666667,  0.        ,\n",
       "         0.        ,  0.33333333,  0.        ,  0.28867513,  0.        ,\n",
       "         0.5       ],\n",
       "       [ 0.        ,  0.        ,  0.        ,  0.        ,  0.        ,\n",
       "         0.        ,  0.        ,  0.        ,  0.        ,  1.        ,\n",
       "         0.        ,  0.        ,  0.        ,  0.        ,  0.        ,\n",
       "         0.        ],\n",
       "       [ 0.        ,  0.        ,  0.        ,  0.        ,  0.        ,\n",
       "         0.        ,  0.        ,  0.        ,  0.        ,  0.        ,\n",
       "         1.        ,  0.        ,  0.        ,  0.        ,  0.        ,\n",
       "         0.        ],\n",
       "       [ 0.        ,  0.        ,  0.33333333,  0.        ,  0.        ,\n",
       "         0.        ,  0.        ,  0.        ,  0.33333333,  0.        ,\n",
       "         0.        ,  0.66666667,  0.        , -0.28867513,  0.        ,\n",
       "        -0.5       ]])"
      ]
     },
     "execution_count": 19,
     "metadata": {},
     "output_type": "execute_result"
    }
   ],
   "source": [
    "np.round(vecs, PRECISION)"
   ]
  },
  {
   "cell_type": "code",
   "execution_count": null,
   "id": "a293767f-d06f-4a85-8ae1-75b50a86d98a",
   "metadata": {},
   "outputs": [],
   "source": []
  }
 ],
 "metadata": {
  "kernelspec": {
   "display_name": "base-10",
   "language": "python",
   "name": "base-10"
  },
  "language_info": {
   "codemirror_mode": {
    "name": "ipython",
    "version": 3
   },
   "file_extension": ".py",
   "mimetype": "text/x-python",
   "name": "python",
   "nbconvert_exporter": "python",
   "pygments_lexer": "ipython3",
   "version": "3.10.4"
  }
 },
 "nbformat": 4,
 "nbformat_minor": 5
}
